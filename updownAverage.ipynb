{
 "cells": [
  {
   "cell_type": "code",
   "execution_count": 6,
   "metadata": {},
   "outputs": [
    {
     "name": "stderr",
     "output_type": "stream",
     "text": [
      "100%|██████████| 8867/8867 [00:20<00:00, 434.87it/s]"
     ]
    },
    {
     "name": "stdout",
     "output_type": "stream",
     "text": [
      "Total Files Processed: 8866\n",
      "Percentage of Up Days: 49.966783360852745%\n",
      "Percentage of Down Days: 50.03321663914725%\n"
     ]
    },
    {
     "name": "stderr",
     "output_type": "stream",
     "text": [
      "\n"
     ]
    }
   ],
   "source": [
    "import pandas as pd\n",
    "import numpy as np\n",
    "import os\n",
    "import tqdm\n",
    "import pandas as pd\n",
    "import os\n",
    "\n",
    "def process_file(file_path):\n",
    "    df = pd.read_csv(file_path)\n",
    "    if len(df) < 400:\n",
    "        return 0, 0\n",
    "    df['Movement'] = df['Close'] - df['Open']\n",
    "\n",
    "    up_days = (df['Movement'] > 0).sum()\n",
    "    down_days = (df['Movement'] < 0).sum()\n",
    "\n",
    "    return up_days, down_days\n",
    "\n",
    "def main(input_directory):\n",
    "    up_days_total = 0\n",
    "    down_days_total = 0\n",
    "    file_count = 0\n",
    "\n",
    "    for filename in tqdm.tqdm(os.listdir(input_directory)):\n",
    "        if filename.endswith('.csv'):\n",
    "            file_path = os.path.join(input_directory, filename)\n",
    "            up_days, down_days = process_file(file_path)\n",
    "            up_days_total += up_days\n",
    "            down_days_total += down_days\n",
    "            file_count += 1\n",
    "\n",
    "    total_days = up_days_total + down_days_total\n",
    "    if total_days > 0:\n",
    "        up_percentage = (up_days_total / total_days) * 100\n",
    "        down_percentage = (down_days_total / total_days) * 100\n",
    "    else:\n",
    "        up_percentage = down_percentage = 0\n",
    "\n",
    "    print(f\"Total Files Processed: {file_count}\")\n",
    "    print(f\"Percentage of Up Days: {up_percentage}%\")\n",
    "    print(f\"Percentage of Down Days: {down_percentage}%\")\n",
    "\n",
    "main('Data/PriceData')"
   ]
  }
 ],
 "metadata": {
  "kernelspec": {
   "display_name": "tf",
   "language": "python",
   "name": "python3"
  },
  "language_info": {
   "codemirror_mode": {
    "name": "ipython",
    "version": 3
   },
   "file_extension": ".py",
   "mimetype": "text/x-python",
   "name": "python",
   "nbconvert_exporter": "python",
   "pygments_lexer": "ipython3",
   "version": "3.9.18"
  }
 },
 "nbformat": 4,
 "nbformat_minor": 2
}
